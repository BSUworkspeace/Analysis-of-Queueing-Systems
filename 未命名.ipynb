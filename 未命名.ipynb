{
 "cells": [
  {
   "cell_type": "markdown",
   "id": "advisory-administration",
   "metadata": {
    "slideshow": {
     "slide_type": "slide"
    }
   },
   "source": [
    "\n",
    "\n",
    "\n",
    "# Multidimensional Birth-and-Death Processes"
   ]
  },
  {
   "cell_type": "code",
   "execution_count": null,
   "id": "ordinary-checkout",
   "metadata": {},
   "outputs": [],
   "source": []
  },
  {
   "cell_type": "markdown",
   "id": "affiliated-tradition",
   "metadata": {
    "slideshow": {
     "slide_type": "slide"
    }
   },
   "source": [
    "# what is birth-and-death process\n",
    "\n",
    "\n",
    "\n",
    "\n",
    "The birth-and-death proc is $i_{t}, \\quad t \\geq 0$ is a special class of stochastic proc.the $i_{t}$ is number of customers in the system at time t\n",
    "\n",
    "We used \"birth\" to indicate the arrival and \"death\" to indicate the departure\n",
    "\n",
    "For here we consider a birth and death proc with a countable state space $\\{0,1,2, \\ldots\\} .$ \n",
    "- the matrix Q is infinitesimal coefficients\n",
    "- the matrix Q have three-diagonal structure \n",
    "\n"
   ]
  },
  {
   "cell_type": "markdown",
   "id": "polar-layer",
   "metadata": {
    "slideshow": {
     "slide_type": "subslide"
    }
   },
   "source": [
    "$$\n",
    "Q=\\left(\\begin{array}{ccccc}\n",
    "-\\lambda_{0} & \\lambda_{0} & 0 & 0 & \\ldots \\\\\n",
    "\\mu_{1} & -\\left(\\lambda_{1}+\\mu_{1}\\right) & \\lambda_{1} & 0 & \\ldots \\\\\n",
    "0 & \\mu_{2} & -\\left(\\lambda_{2}+\\mu_{2}\\right. & \\lambda_{2} & \\ldots \\\\\n",
    "\\vdots & \\vdots & \\vdots & \\vdots & \\ddots\n",
    "\\end{array}\\right)\n",
    "$$\n",
    "\n",
    "we call this proc is birth and death proc\n",
    "\n",
    "- $\\lambda_{i}$ is called the birth intensity of state $i$.\n",
    "- $\\mu_{i}$ is the death intensity of state $i$.\n",
    "\n",
    "The purpose is to find the Stationary distribution of the Markov chain"
   ]
  },
  {
   "cell_type": "markdown",
   "id": "related-infrared",
   "metadata": {
    "slideshow": {
     "slide_type": "subslide"
    }
   },
   "source": [
    "Probabilities $p_{i}(t)=P\\left\\{i_{t}=i\\right\\}, i \\geq 0$ arranged in a row vector $\\mathbf{p}(t)=$ $\\left(p_{0}(t), p_{1}(t), p_{2}(t), \\ldots\\right)$ satisfy an infinite system of equations\n",
    "\n",
    "\n",
    "$$\n",
    "\\frac{d \\mathbf{p}(t)}{d t}=\\mathbf{p}(t) Q\n",
    "$$\n",
    "at the normalization condition  $\\mathbf{p}(t) \\mathbf{e}=1$ with $\\mathbf{p}(0)$ is known\n",
    "the solution of this system of equations has the form\n",
    "\n",
    "$$\n",
    "\\begin{array}{l}\n",
    "\\mathbf{p}(t)=\\mathbf{p}(0) e^{Q t} \\\\\n",
    "\\text { Denote } \\\\\n",
    "\\rho_{k}=\\frac{\\prod_{l=0}^{k-1} \\lambda_{l}}{\\prod_{l=1} \\mu_{l}}, k \\geq 0 .\n",
    "\\end{array}\n",
    "$$\n"
   ]
  },
  {
   "cell_type": "markdown",
   "id": "received-attempt",
   "metadata": {
    "slideshow": {
     "slide_type": "subslide"
    }
   },
   "source": [
    "given that \n",
    "- series  $\\sum_{k=0}^{\\infty} \\rho_{k}$ converges\n",
    "- series $\\sum_{k=1}^{\\infty} \\prod_{i=1}^{k} \\frac{\\mu_{i}}{\\lambda_{i}}$ diverges\n",
    "- the stationary state probabilities of the birth-and-death process $i_{t}, t \\geq 0$\n",
    "\n",
    "$$p_{i}=\\lim _{t \\rightarrow \\infty} p_{i}(t), i \\geq 0$$\n",
    "\n",
    "they are defined by relations\n",
    "$$\n",
    "p_{0}=\\left(\\sum_{k=0}^{\\infty} \\rho_{k}\\right)^{-1}, p_{i}=p_{0} \\rho_{i}, i \\geq 1 .\n",
    "$$\n",
    "\n"
   ]
  },
  {
   "cell_type": "markdown",
   "id": "alternate-action",
   "metadata": {
    "slideshow": {
     "slide_type": "slide"
    }
   },
   "source": [
    "# Definition of the Quasi-Birth-and-Death Process and Its Stationary State Distribution"
   ]
  },
  {
   "cell_type": "markdown",
   "id": "polish-football",
   "metadata": {
    "slideshow": {
     "slide_type": "subslide"
    }
   },
   "source": [
    "in many case e.g. MAP or PH service processes etc.\n",
    "need analysis MC $\\xi_{t}=\\left\\{i_{t}, \\mathbf{v}_{t}\\right\\}, t \\geq 0$  in 2-dim or multidimensional\n",
    "\n",
    "\n",
    "$$\n",
    "\\mathcal{S}=\\left\\{(i, \\mathbf{v}), \\mathbf{v} \\in \\mathcal{V}_{i}, i \\geq 0\\right\\}\n",
    "$$\n",
    "\n",
    "- where if the Markov process $\\xi_{t}=\\left\\{i_{t}, \\mathbf{v}_{t}\\right\\}, t \\geq 0$ is twodimensional :$\\mathcal{V}_{i}$ is a finite set \n",
    "- where if if the Markov process $\\xi_{t}=\\left\\{i_{t}, \\mathbf{v}_{t}\\right\\}, t \\geq 0$ is multidimensional. it is some finite set of finite-dimensional vectors "
   ]
  },
  {
   "cell_type": "markdown",
   "id": "looking-contest",
   "metadata": {
    "slideshow": {
     "slide_type": "subslide"
    }
   },
   "source": [
    "- Enumerate the states of the process $\\xi_{t}=\\left\\{i_{t}, \\mathbf{v}_{t}\\right\\}, t \\geq 0$ in lexicographic order \n",
    "- combine the states for which the component $i_{t}$ has value $i$ into the macro-state $i$,\n",
    "sometimes also called the level of process $\\xi_{t}=\\left\\{i_{t}, \\mathbf{v}_{t}\\right\\}, t \\geq 0$\n",
    "\n",
    "according such an enumeration,the generator $Q$ of this process can be presented in a block form $Q=\\left(Q_{i, l}\\right)_{i, l \\geq 0}$,"
   ]
  },
  {
   "cell_type": "markdown",
   "id": "expressed-librarian",
   "metadata": {
    "slideshow": {
     "slide_type": "subslide"
    }
   },
   "source": [
    "The process $\\xi_{t}=\\left\\{i_{t}, \\mathbf{v}_{t}\\right\\}, t \\geq 0$ is called a multidimensional (vector) QuasiBirth-and-Death process $(Q B D)$\n",
    "\n",
    "$Q=\\left(Q_{i, l}\\right)_{i, l \\geq 0}$ can be presented in the form\n",
    "\n",
    "### 2.2.1\n",
    "$$\n",
    "Q=\\left(\\begin{array}{ccccc}\n",
    "Q_{0,0} & Q_{0} & O & O & \\ldots \\\\\n",
    "Q_{2} & Q_{1} & Q_{0} & O & \\ldots \\\\\n",
    "O & Q_{2} & Q_{1} & Q_{0} & \\ldots \\\\\n",
    "\\vdots & \\vdots & \\vdots & \\vdots & \\ddots\n",
    "\\end{array}\\right)\n",
    "$$\n",
    "\n",
    "\n"
   ]
  },
  {
   "cell_type": "markdown",
   "id": "intermediate-clone",
   "metadata": {
    "slideshow": {
     "slide_type": "slide"
    }
   },
   "source": [
    "### Theorem 2.1 A necessary and sufficient condition for the existence of a stationary probability distribution of the $M C \\xi_{t}, t \\geq 0$ is the validity of inequalities\n",
    "\n",
    "#### 2.2.2\n",
    "$$\n",
    "\\mathbf{y} Q_{2} \\mathbf{e}>\\mathbf{y} Q_{0} \\mathbf{e}\n",
    "$$\n",
    "\n",
    "where the row vector $\\mathbf{y}$ is the unique solution of the system of linear algebraic equations\n",
    "\n",
    "#### 2.2.3\n",
    "$$\n",
    "\\mathbf{y}\\left(Q_{0}+Q_{1}+Q_{2}\\right)=\\mathbf{0}, \\mathbf{y e}=1\n",
    "$$\n",
    "\n",
    "this proof given by [93]\n",
    "\n",
    "93:Neuts, M.F.: Matrix-Geometric Solutions in Stochastic Models: An Algorithmic Approach.\n",
    "Johns Hopkins University, Baltimore (1981)\n"
   ]
  },
  {
   "cell_type": "markdown",
   "id": "olive-trauma",
   "metadata": {
    "slideshow": {
     "slide_type": "subslide"
    }
   },
   "source": [
    "Below we assume that condition $(2.22)$ holds. Then there exist limits\n",
    "\n",
    "\n",
    "$$\n",
    "\\pi(i, \\mathbf{v})=\\lim _{t \\rightarrow \\infty} P\\left\\{i_{t}=i, \\mathbf{v}_{t}=\\mathbf{v}\\right\\}, \\mathbf{v} \\in \\mathcal{V}_{i}, i \\geq 0\n",
    "$$\n",
    "which are called stationary state probabilities of the MC. \n",
    "\n",
    "Corresponding to a lexicographic ordering of the MC states, we group these probabilities into row vectors\n",
    "\n",
    "$$\n",
    "\\boldsymbol{\\pi}_{i}=\\left(\\pi(i, \\mathbf{v}), \\mathbf{v} \\in \\mathcal{V}_{i}\\right), i \\geq 0\n",
    "$$\n"
   ]
  },
  {
   "cell_type": "markdown",
   "id": "proper-minimum",
   "metadata": {
    "slideshow": {
     "slide_type": "subslide"
    }
   },
   "source": [
    "### Theorem 2.2 The vectors of stationary state probabilities of the $M C \\xi_{t}, t \\geq 0$ are calculated as follows:\n",
    "\n",
    "#### 2.2.4\n",
    "$$\n",
    "\\boldsymbol{\\pi}_{i}=\\boldsymbol{\\pi}_{0} \\mathcal{R}^{i}, i \\geq 0\n",
    "$$\n",
    "\n",
    "where matrix $\\mathcal{R}$ is a minimal non-negative solution of the matrix equation\n",
    "\n",
    "#### 2.2.5\n",
    "$$\n",
    "\\mathcal{R}^{2} Q_{2}+\\mathcal{R} Q_{1}+Q_{0}=O\n",
    "$$\n",
    "\n",
    "\n",
    "\n"
   ]
  },
  {
   "cell_type": "markdown",
   "id": "respiratory-fleece",
   "metadata": {
    "slideshow": {
     "slide_type": "subslide"
    }
   },
   "source": [
    "and vector $\\pi_{0}$ is the unique solution of the following system of linear algebraic equations:\n",
    "#### 2.2.6\n",
    "$$\n",
    "\\begin{aligned}\n",
    "\\pi_{0}\\left(Q_{0,0}+\\mathcal{R} Q_{2}\\right) &=\\mathbf{0} \\\\\n",
    "\\end{aligned}\n",
    "$$\n",
    "#### 2.2.7\n",
    "$$\n",
    "\\begin{aligned}\n",
    "\\pi_{0}(I-\\mathcal{R})^{-1} \\mathbf{e}=1\n",
    "\\end{aligned}\n",
    "$$"
   ]
  },
  {
   "cell_type": "markdown",
   "id": "loved-transaction",
   "metadata": {
    "slideshow": {
     "slide_type": "subslide"
    }
   },
   "source": [
    "### Proof It is known that vector $\\pi=\\left(\\pi_{0}, \\pi_{1}, \\pi_{2}, \\ldots\\right)$ is a solution of the system of equilibrium equations\n",
    "#### 2.2.8\n",
    "$$\n",
    "\\pi Q=\\mathbf{0}\n",
    "$$\n",
    "with the normalization condition\n",
    "\n",
    "#### 2.2.9\n",
    "$$\n",
    "\\pi \\mathbf{e}=1\n",
    "$$\n",
    "Suppose that the solution of system (2.28) has the form (2.24). Substituting vectors $\\pi_{i}, i \\geq 1$ of form $(2.24)$ into equations\n",
    "\n",
    "$$\n",
    "\\pi_{i-1} Q_{0}+\\pi_{i} Q_{1}+\\pi_{i+1} Q_{2}=\\mathbf{0}, i \\geq 1\n",
    "$$\n"
   ]
  },
  {
   "cell_type": "markdown",
   "id": "mature-arthritis",
   "metadata": {
    "slideshow": {
     "slide_type": "subslide"
    }
   },
   "source": [
    "of system 2.28 it is easy to see that these equations result in the identities, if matrix $\\mathcal{R}$ satisfies matrix equation $(2.25) .$ Substituting vectors $\\pi_{i}, i \\geq 1$ of form $(2.24)$ into equations\n",
    "\n",
    "$$\n",
    "\\pi_{0} Q_{0,0}+\\pi_{1} Q_{2}=\\mathbf{0}\n",
    "$$\n",
    "\n",
    "of system ( $2.28$ ), we obtain that vector $\\pi_{0}$ satisfies Eq. $(2.26)$. \n",
    "\n",
    "\n",
    "It is known, see [93], that the ergodicity condition (2.22) holds if and only if the spectral radius $\\varrho(\\mathcal{R})$ of matrix $\\mathcal{R}$ is strictly less than $1 .$ \n",
    "\n",
    "under this condition \n",
    "- $\\sum_{l=0}^{\\infty} \\mathcal{R}^{l}$ converges =  $(I-\\mathcal{R})^{-1} .$ \n",
    "- Equation (2.27 $\\sum_{i=0}^{\\infty} \\pi_{i} \\mathbf{e}=1$.) now follows from (2.24) and the normalization condition\n"
   ]
  },
  {
   "cell_type": "markdown",
   "id": "colored-problem",
   "metadata": {
    "slideshow": {
     "slide_type": "subslide"
    }
   },
   "source": [
    "$\\boldsymbol{\\pi}_{i}=\\boldsymbol{\\pi}_{0} \\mathcal{R}^{i}, i \\geq 0$ into \n",
    "$\\sum_{i=0}^{\\infty} \\pi_{i} \\mathbf{e}=1$ and $\\sum_{l=0}^{\\infty} \\mathcal{R}^{l}$ converges =  $(I-\\mathcal{R})^{-1} .$ \n",
    "\n",
    "$$\n",
    "\\begin{aligned}\n",
    "\\pi_{0}(I-\\mathcal{R})^{-1} \\mathbf{e}=1\n",
    "\\end{aligned}\n",
    "$$\n"
   ]
  },
  {
   "cell_type": "markdown",
   "id": "prime-hepatitis",
   "metadata": {
    "slideshow": {
     "slide_type": "subslide"
    }
   },
   "source": [
    "here we wanna solve eq.2.25  $\n",
    "\\mathcal{R}^{2} Q_{2}+\\mathcal{R} Q_{1}+Q_{0}=O\n",
    "$\n",
    "### successive approximations.\n",
    "\n",
    "#### 2.30\n",
    "\n",
    "#### \n",
    "\n",
    "$$\n",
    "\\mathcal{R}_{k+1}=\\left(\\mathcal{R}_{k}^{2} Q_{2}+Q_{0}\\right)\\left(-Q_{1}\\right)^{-1}, k \\geq 0\n",
    "$$\n",
    "\n",
    "We note that the inverse matrix in $(2.30)$ exists since matrix $Q_{1}$ is an irreducible subgenerator. It is shown in [93] that the sequence of matrices $\\left\\{\\mathcal{R}_{k}, k \\geq 0\\right\\}$ given by recursion (2.30) converges to the minimal non-negative solution of matrix equation $(2.25)$"
   ]
  },
  {
   "cell_type": "markdown",
   "id": "coordinate-compilation",
   "metadata": {
    "slideshow": {
     "slide_type": "subslide"
    }
   },
   "source": [
    "### logarithmic reduction\n",
    "\n",
    "\n",
    "$$\n",
    "\\mathcal{R}=Q_{0}\\left(-Q_{1}-Q_{0} \\mathcal{G}\\right)^{-1}\n",
    "$$\n",
    "\n",
    "- matrix $\\mathcal{R}$, which is a solution of Eq. (2.25 $\n",
    "\\mathcal{R}^{2} Q_{2}+\\mathcal{R} Q_{1}+Q_{0}=O\n",
    "$),\n",
    "\n",
    "- $\\mathcal{G}$, is a solution of the matrix equation\n",
    "\n",
    "\n",
    "$$\n",
    "Q_{0} \\mathcal{G}^{2}+Q_{1} \\mathcal{G}+Q_{2}=O\n",
    "$$\n",
    "\n",
    "we can get matrix $\n",
    "\\mathcal{G}$\n",
    "\n",
    "$$\n",
    "\\mathcal{G}=\\left(-Q_{1}\\right)^{-1} Q_{0} \\mathcal{G}^{2}+\\left(-Q_{1}\\right)^{-1} Q_{2}\n",
    "$$\n"
   ]
  },
  {
   "cell_type": "markdown",
   "id": "saving-peter",
   "metadata": {
    "slideshow": {
     "slide_type": "subslide"
    }
   },
   "source": [
    "The above results for QBD processes are easily extended to the case when the block generator of the process $\\xi_{t}, t \\geq 0$ has the form\n",
    "$$\n",
    "Q=\\left(\\begin{array}{ccccc}\n",
    "\\tilde{Q}_{0,0} & \\tilde{Q}_{0} & O & O & \\ldots \\\\\n",
    "\\tilde{Q}_{2} & Q_{1} & Q_{0} & O & \\ldots \\\\\n",
    "O & Q_{2} & Q_{1} & Q_{0} & \\ldots \\\\\n",
    "\\vdots & \\vdots & \\vdots & \\vdots & \\ddots\n",
    "\\end{array}\\right)\n",
    "$$\n",
    "\n",
    "In this case, a necessary and sufficient condition for the existence of a stationary state distribution for the process $\\xi_{t}, t \\geq 0$ is also given by inequality $(2.22)$ where vector $\\mathbf{y}$ is the solution of system (2.23). The formulas for calculating the vectors of stationary state probabilities have the following form here:\n",
    "\n",
    "\n",
    "\n",
    "\n",
    "$$\n",
    "\\pi_{i}=\\pi_{1} \\mathcal{R}^{i-1}, i \\geq 1\n",
    "$$\n"
   ]
  },
  {
   "cell_type": "markdown",
   "id": "resistant-reggae",
   "metadata": {
    "slideshow": {
     "slide_type": "subslide"
    }
   },
   "source": [
    "where matrix $\\mathcal{R}$ is the minimal non-negative solution of matrix equation $(2.25)$, and vectors $\\pi_{0}$ and $\\pi_{1}$ are the unique solution of the following system of linear algebraic equations:\n",
    "\n",
    "$$\n",
    "\\begin{array}{c}\n",
    "\\boldsymbol{\\pi}_{0} \\tilde{Q}_{0,0}+\\boldsymbol{\\pi}_{1} \\tilde{Q}_{2}=\\mathbf{0} \\\\\n",
    "\\boldsymbol{\\pi}_{0} \\tilde{Q}_{0}+\\boldsymbol{\\pi}_{1}\\left(Q_{1}+\\mathcal{R} Q_{2}\\right)=\\mathbf{0} \\\\\n",
    "\\boldsymbol{\\pi}_{0} \\mathbf{e}+\\boldsymbol{\\pi}_{1}(I-\\mathcal{R})^{-1} \\mathbf{e}=1\n",
    "\\end{array}\n",
    "$$\n",
    "\n",
    "For illustration, we apply the above information for $Q B D$ processes to the analysis of a $M A P / P H / 1$ -type queue."
   ]
  }
 ],
 "metadata": {
  "celltoolbar": "幻灯片",
  "kernelspec": {
   "display_name": "Python 3.7.1 64-bit ('base': conda)",
   "language": "python",
   "name": "python37164bitbaseconda78095b79c64a40c2938649da3e760910"
  },
  "language_info": {
   "codemirror_mode": {
    "name": "ipython",
    "version": 3
   },
   "file_extension": ".py",
   "mimetype": "text/x-python",
   "name": "python",
   "nbconvert_exporter": "python",
   "pygments_lexer": "ipython3",
   "version": "3.7.6"
  }
 },
 "nbformat": 4,
 "nbformat_minor": 5
}
